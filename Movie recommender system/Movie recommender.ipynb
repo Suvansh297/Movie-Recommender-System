{
 "cells": [
  {
   "cell_type": "markdown",
   "id": "5763ce41",
   "metadata": {},
   "source": [
    "# Movie recommender system"
   ]
  },
  {
   "cell_type": "markdown",
   "id": "cc1711c7",
   "metadata": {},
   "source": [
    "The project takes in a dataset of movies, and vectorizes the tags to give recommendations. If the movie does not exist in the dataset, then an api is called to retrive informations regarding it. It is then vectorized and added to the dataset as well. This way, the data keeps on growing with use."
   ]
  },
  {
   "cell_type": "code",
   "execution_count": 47,
   "id": "636d6eb2",
   "metadata": {},
   "outputs": [],
   "source": [
    "import pandas as pd\n",
    "from nltk.stem import PorterStemmer\n",
    "from sklearn.feature_extraction.text import CountVectorizer\n",
    "from sklearn.metrics.pairwise import cosine_similarity\n",
    "import numpy as np\n",
    "import config\n",
    "import requests\n",
    "from fuzzywuzzy import process\n",
    "import config\n",
    "\n",
    "# Initialize stemmer and vectorizer\n",
    "ps = PorterStemmer()\n",
    "cv = CountVectorizer(max_features=10000, stop_words='english', ngram_range=(1, 3)) \n",
    "\n",
    "\n"
   ]
  },
  {
   "cell_type": "markdown",
   "id": "5e1d7b58",
   "metadata": {},
   "source": [
    "Using ngram_range, we are including both bi-grams and tri-grams in it.\n",
    "That will better help understand the correlation between words."
   ]
  },
  {
   "cell_type": "code",
   "execution_count": 48,
   "id": "24c67354",
   "metadata": {},
   "outputs": [
    {
     "name": "stdout",
     "output_type": "stream",
     "text": [
      "<class 'pandas.core.frame.DataFrame'>\n",
      "RangeIndex: 4817 entries, 0 to 4816\n",
      "Data columns (total 3 columns):\n",
      " #   Column    Non-Null Count  Dtype \n",
      "---  ------    --------------  ----- \n",
      " 0   movie_id  4817 non-null   int64 \n",
      " 1   title     4817 non-null   object\n",
      " 2   tags      4817 non-null   object\n",
      "dtypes: int64(1), object(2)\n",
      "memory usage: 113.0+ KB\n"
     ]
    }
   ],
   "source": [
    "# Load data\n",
    "data = pd.read_csv(\"dataframe.csv\")\n",
    "data['tags'] = data['tags'].astype(str)\n",
    "data.info()"
   ]
  },
  {
   "cell_type": "code",
   "execution_count": 49,
   "id": "c6ae164b",
   "metadata": {},
   "outputs": [
    {
     "data": {
      "text/html": [
       "<div>\n",
       "<style scoped>\n",
       "    .dataframe tbody tr th:only-of-type {\n",
       "        vertical-align: middle;\n",
       "    }\n",
       "\n",
       "    .dataframe tbody tr th {\n",
       "        vertical-align: top;\n",
       "    }\n",
       "\n",
       "    .dataframe thead th {\n",
       "        text-align: right;\n",
       "    }\n",
       "</style>\n",
       "<table border=\"1\" class=\"dataframe\">\n",
       "  <thead>\n",
       "    <tr style=\"text-align: right;\">\n",
       "      <th></th>\n",
       "      <th>movie_id</th>\n",
       "      <th>title</th>\n",
       "      <th>tags</th>\n",
       "    </tr>\n",
       "  </thead>\n",
       "  <tbody>\n",
       "    <tr>\n",
       "      <th>1340</th>\n",
       "      <td>11001</td>\n",
       "      <td>Blue Streak</td>\n",
       "      <td>mile logan is a jewel thief who just hit the b...</td>\n",
       "    </tr>\n",
       "    <tr>\n",
       "      <th>725</th>\n",
       "      <td>10067</td>\n",
       "      <td>The Shaggy Dog</td>\n",
       "      <td>the tale of a workahol dad-turned-dog who find...</td>\n",
       "    </tr>\n",
       "    <tr>\n",
       "      <th>3938</th>\n",
       "      <td>549</td>\n",
       "      <td>Basquiat</td>\n",
       "      <td>director julian schnabel illustr the portrait ...</td>\n",
       "    </tr>\n",
       "    <tr>\n",
       "      <th>2140</th>\n",
       "      <td>1710</td>\n",
       "      <td>Copycat</td>\n",
       "      <td>an agoraphob psychologist and a femal detect m...</td>\n",
       "    </tr>\n",
       "    <tr>\n",
       "      <th>3439</th>\n",
       "      <td>62255</td>\n",
       "      <td>Tracker</td>\n",
       "      <td>an ex-boer war guerrilla in new zealand is sen...</td>\n",
       "    </tr>\n",
       "  </tbody>\n",
       "</table>\n",
       "</div>"
      ],
      "text/plain": [
       "      movie_id           title  \\\n",
       "1340     11001     Blue Streak   \n",
       "725      10067  The Shaggy Dog   \n",
       "3938       549        Basquiat   \n",
       "2140      1710         Copycat   \n",
       "3439     62255         Tracker   \n",
       "\n",
       "                                                   tags  \n",
       "1340  mile logan is a jewel thief who just hit the b...  \n",
       "725   the tale of a workahol dad-turned-dog who find...  \n",
       "3938  director julian schnabel illustr the portrait ...  \n",
       "2140  an agoraphob psychologist and a femal detect m...  \n",
       "3439  an ex-boer war guerrilla in new zealand is sen...  "
      ]
     },
     "execution_count": 49,
     "metadata": {},
     "output_type": "execute_result"
    }
   ],
   "source": [
    "data.sample(5)"
   ]
  },
  {
   "cell_type": "code",
   "execution_count": 50,
   "id": "00136f62",
   "metadata": {},
   "outputs": [
    {
     "name": "stdout",
     "output_type": "stream",
     "text": [
      "(4817, 10000)\n",
      "False\n"
     ]
    },
    {
     "name": "stderr",
     "output_type": "stream",
     "text": [
      "/Users/suvanshsharma/anaconda3/lib/python3.11/site-packages/sklearn/utils/extmath.py:193: RuntimeWarning: invalid value encountered in matmul\n",
      "  ret = a @ b\n"
     ]
    }
   ],
   "source": [
    "API_KEY = '23fd07ad'\n",
    "\n",
    "# stem function\n",
    "def stem(text):\n",
    "    return \" \".join(ps.stem(word) for word in text.split())\n",
    "\n",
    "# Applying stemming to the tags\n",
    "data['tags'] = data['tags'].apply(stem)\n",
    "\n",
    "# Vectorizing \n",
    "vectors = cv.fit_transform(data['tags']).toarray()\n",
    "\n",
    "print(vectors.shape)\n",
    "print(np.isnan(vectors).any()) #to check if any Nan values\n",
    "\n",
    "similarity = cosine_similarity(vectors)"
   ]
  },
  {
   "cell_type": "code",
   "execution_count": 51,
   "id": "b17d9b95",
   "metadata": {},
   "outputs": [],
   "source": [
    "def recommend(movie):\n",
    "    if movie not in data['title'].values:\n",
    "        print(\"Movie not found.\")\n",
    "        return\n",
    "\n",
    "    movie_index = data[data['title'] == movie].index[0]\n",
    "    distances = similarity[movie_index]\n",
    "    movies_list = sorted(list(enumerate(distances)), reverse=True, key=lambda x: x[1])[1:6]\n",
    "\n",
    "    if not movies_list:\n",
    "        print(\"No recommendations found.\")\n",
    "        return\n",
    "\n",
    "    for i in movies_list:\n",
    "        try:\n",
    "            print(data.iloc[i[0]].title)\n",
    "        except IndexError:\n",
    "            print(\"Index out of bounds while recommending.\")"
   ]
  },
  {
   "cell_type": "markdown",
   "id": "b74165d6",
   "metadata": {},
   "source": [
    "If movie is not present in the dataset, it will fetch details of that movie using api. It will include it in the vectorization and then recommend accordingly."
   ]
  },
  {
   "cell_type": "code",
   "execution_count": 52,
   "id": "9bc4e66f",
   "metadata": {},
   "outputs": [],
   "source": [
    "def get_movie_data(title):\n",
    "    \n",
    "    BASE_URL = 'http://www.omdbapi.com/'\n",
    "    response = requests.get(BASE_URL, params={'t': title, 'apikey': API_KEY})\n",
    "    movie_data = response.json()\n",
    "\n",
    "    if movie_data.get('Response') == 'True':\n",
    "        new_df = pd.DataFrame([{\n",
    "            'movie_id': movie_data['imdbID'][2:],\n",
    "            'title': movie_data['Title'],\n",
    "            'tags': movie_data['Plot'] + ' ' + movie_data['Genre'] + ' ' + movie_data['Director'] + ' ' + movie_data['Actors']\n",
    "        }])\n",
    "        new_df['tags'] = new_df['tags'].apply(stem)\n",
    "\n",
    "        # Append new data to the existing DataFrame\n",
    "        global data\n",
    "        data = pd.concat([data, new_df], ignore_index=True)\n",
    "\n",
    "        # Re-fit the CountVectorizer and update vectors and similarity\n",
    "        global cv, vectors, similarity\n",
    "        vectors = cv.fit_transform(data['tags']).toarray()\n",
    "        similarity = cosine_similarity(vectors)\n",
    "\n",
    "        recommend(new_df['title'].values[0])\n",
    "    else:\n",
    "        print(f\"Movie not found: {movie_data.get('Error')}\")"
   ]
  },
  {
   "cell_type": "code",
   "execution_count": 53,
   "id": "848df6ff",
   "metadata": {},
   "outputs": [],
   "source": [
    "def find_closest_match(input_title, titles):\n",
    "    matches = process.extract(input_title, titles, limit=1)\n",
    "    if matches:\n",
    "        return matches[0][0]\n",
    "    return None\n"
   ]
  },
  {
   "cell_type": "code",
   "execution_count": 54,
   "id": "d1d66b1c",
   "metadata": {},
   "outputs": [],
   "source": [
    "def give_recommendation(movie):\n",
    "    if movie in data['title'].values:\n",
    "        recommend(movie)\n",
    "    else:\n",
    "        closest_match = find_closest_match(movie, data['title'].values)\n",
    "        if closest_match:\n",
    "            confirm = input(f\"Did you mean '{closest_match}'? (yes/no): \").strip().lower()\n",
    "            if confirm == 'yes' or confirm == 'y':\n",
    "                print(\"You should try watching these movies if you liked\", movie)\n",
    "                recommend(closest_match)\n",
    "            else:\n",
    "                print(\"Data not found in my existing database, fetching it from the internet\")\n",
    "                get_movie_data(movie)\n",
    "        else:\n",
    "            print(\"Data not found in my existing database, fetching it from the internet\")\n",
    "            get_movie_data(movie)\n",
    "\n",
    "    # Save updated data to CSV\n",
    "    data.to_csv(\"dataframe.csv\", index=False)"
   ]
  },
  {
   "cell_type": "code",
   "execution_count": 55,
   "id": "568a03f6",
   "metadata": {
    "scrolled": true
   },
   "outputs": [
    {
     "name": "stdout",
     "output_type": "stream",
     "text": [
      "Enter the name of a movie: Interstellar\n",
      "Did you mean 'Interstellar'? (yes/no): yes\n",
      "You should try watching these movies if you liked interstellar\n",
      "Silent Running\n",
      "The Martian\n",
      "Space Cowboys\n",
      "Solaris\n",
      "Space Pirate Captain Harlock\n"
     ]
    }
   ],
   "source": [
    "movie = input(\"Enter the name of a movie: \").lower()\n",
    "give_recommendation(movie)"
   ]
  },
  {
   "cell_type": "code",
   "execution_count": 56,
   "id": "2228be2d",
   "metadata": {
    "scrolled": true
   },
   "outputs": [
    {
     "name": "stdout",
     "output_type": "stream",
     "text": [
      "Enter the name of a movie: The matrix\n",
      "Did you mean 'The Matrix'? (yes/no): yes\n",
      "You should try watching these movies if you liked the matrix\n",
      "The Matrix Revolutions\n",
      "The Matrix Reloaded\n",
      "Terminator 3: Rise of the Machines\n",
      "Hackers\n",
      "The Terminator\n"
     ]
    }
   ],
   "source": [
    "movie = input(\"Enter the name of a movie: \").lower()\n",
    "give_recommendation(movie)"
   ]
  },
  {
   "cell_type": "markdown",
   "id": "72db3e73",
   "metadata": {},
   "source": [
    "#### Lets try a movie which is not in the dataset\n",
    "\n",
    "As we can see, by giving input Ad Astra, we get outputs like spaceman which are also related to space."
   ]
  },
  {
   "cell_type": "code",
   "execution_count": 57,
   "id": "f24a8074",
   "metadata": {
    "scrolled": false
   },
   "outputs": [
    {
     "name": "stdout",
     "output_type": "stream",
     "text": [
      "Enter the name of a movie: Ad Astra\n",
      "Did you mean 'I Married a Strange Person!'? (yes/no): no\n",
      "Data not found in my existing database, fetching it from the internet\n",
      "Spaceman\n",
      "1982\n",
      "I Origins\n",
      "I Love Your Work\n",
      "Boogeyman\n"
     ]
    },
    {
     "name": "stderr",
     "output_type": "stream",
     "text": [
      "/Users/suvanshsharma/anaconda3/lib/python3.11/site-packages/sklearn/utils/extmath.py:193: RuntimeWarning: invalid value encountered in matmul\n",
      "  ret = a @ b\n"
     ]
    }
   ],
   "source": [
    "movie = input(\"Enter the name of a movie: \").lower()\n",
    "give_recommendation(movie)"
   ]
  },
  {
   "cell_type": "code",
   "execution_count": null,
   "id": "f2a50a0c",
   "metadata": {},
   "outputs": [],
   "source": []
  }
 ],
 "metadata": {
  "kernelspec": {
   "display_name": "Python 3 (ipykernel)",
   "language": "python",
   "name": "python3"
  },
  "language_info": {
   "codemirror_mode": {
    "name": "ipython",
    "version": 3
   },
   "file_extension": ".py",
   "mimetype": "text/x-python",
   "name": "python",
   "nbconvert_exporter": "python",
   "pygments_lexer": "ipython3",
   "version": "3.11.5"
  }
 },
 "nbformat": 4,
 "nbformat_minor": 5
}
